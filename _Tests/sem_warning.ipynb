{
 "cells": [
  {
   "cell_type": "code",
   "execution_count": 1,
   "metadata": {
    "id": "0ohXIxzt4_U2"
   },
   "outputs": [],
   "source": [
    "import scipy.stats as stats\n",
    "import pandas as pd\n",
    "url = \"https://archive.ics.uci.edu/ml/machine-learning-databases/wine-quality/winequality-red.csv\"\n",
    "data = pd.read_csv(url, sep=\";\")"
   ]
  },
  {
   "cell_type": "code",
   "execution_count": 2,
   "metadata": {
    "id": "BD3oTedE5Gfk"
   },
   "outputs": [],
   "source": [
    "data = data[data['total sulfur dioxide']<200]\n",
    "cols2zscore = data.columns.drop(\"quality\").to_list()\n",
    "data[cols2zscore] = data[cols2zscore].apply(stats.zscore)"
   ]
  }
 ],
 "metadata": {
  "kernelspec": {
   "display_name": "Python 3.10.6 64-bit ('PyTorch')",
   "language": "python",
   "name": "python3"
  },
  "language_info": {
   "codemirror_mode": {
    "name": "ipython",
    "version": 3
   },
   "file_extension": ".py",
   "mimetype": "text/x-python",
   "name": "python",
   "nbconvert_exporter": "python",
   "pygments_lexer": "ipython3",
   "version": "3.10.6"
  },
  "orig_nbformat": 4,
  "vscode": {
   "interpreter": {
    "hash": "205af0a14f87fc7792ce22da2af064dd5b6d2fb307d36d337332f7995cbde08a"
   }
  }
 },
 "nbformat": 4,
 "nbformat_minor": 2
}
